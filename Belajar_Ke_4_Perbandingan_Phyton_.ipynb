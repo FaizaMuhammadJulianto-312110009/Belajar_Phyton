{
  "nbformat": 4,
  "nbformat_minor": 0,
  "metadata": {
    "colab": {
      "provenance": [],
      "authorship_tag": "ABX9TyPWCwQJxX5GsU/X1dl5Pdg7",
      "include_colab_link": true
    },
    "kernelspec": {
      "name": "python3",
      "display_name": "Python 3"
    },
    "language_info": {
      "name": "python"
    }
  },
  "cells": [
    {
      "cell_type": "markdown",
      "metadata": {
        "id": "view-in-github",
        "colab_type": "text"
      },
      "source": [
        "<a href=\"https://colab.research.google.com/github/FaizaMuhammadJulianto-312110009/Belajar_Phyton/blob/main/Belajar_Ke_4_Perbandingan_Phyton_.ipynb\" target=\"_parent\"><img src=\"https://colab.research.google.com/assets/colab-badge.svg\" alt=\"Open In Colab\"/></a>"
      ]
    },
    {
      "cell_type": "markdown",
      "source": [
        "# Jawaban hanya True dan False"
      ],
      "metadata": {
        "id": "xENwYxWQtn39"
      }
    },
    {
      "cell_type": "code",
      "source": [
        "# lebih besar dari\n",
        "hasil = 10 > 5\n",
        "print(hasil)"
      ],
      "metadata": {
        "colab": {
          "base_uri": "https://localhost:8080/"
        },
        "id": "z_BgmZDltwT3",
        "outputId": "6fd97fc0-2277-49f0-a10e-2042b6aed74d"
      },
      "execution_count": null,
      "outputs": [
        {
          "output_type": "stream",
          "name": "stdout",
          "text": [
            "True\n"
          ]
        }
      ]
    },
    {
      "cell_type": "code",
      "source": [
        "# lebih besar dari\n",
        "hasil = 10 > 15\n",
        "print(hasil)"
      ],
      "metadata": {
        "colab": {
          "base_uri": "https://localhost:8080/"
        },
        "id": "Zerz8ZrSuB-_",
        "outputId": "8b70dd6c-f05c-4c4e-cc4d-42c35c19cf98"
      },
      "execution_count": null,
      "outputs": [
        {
          "output_type": "stream",
          "name": "stdout",
          "text": [
            "False\n"
          ]
        }
      ]
    },
    {
      "cell_type": "code",
      "source": [
        "# lebih kecil dari\n",
        "hasil = 3 < 10\n",
        "print(hasil)"
      ],
      "metadata": {
        "colab": {
          "base_uri": "https://localhost:8080/"
        },
        "id": "r387ixQfuEDn",
        "outputId": "df7bfbd1-2e0c-470c-a043-a61662da83c8"
      },
      "execution_count": null,
      "outputs": [
        {
          "output_type": "stream",
          "name": "stdout",
          "text": [
            "True\n"
          ]
        }
      ]
    },
    {
      "cell_type": "code",
      "source": [
        "# lebih kecil dari\n",
        "hasil = 13 < 10\n",
        "print(hasil)"
      ],
      "metadata": {
        "colab": {
          "base_uri": "https://localhost:8080/"
        },
        "id": "WTvRswjCuMC0",
        "outputId": "e5a68b45-4761-47d0-9102-c0a6fb2811b4"
      },
      "execution_count": null,
      "outputs": [
        {
          "output_type": "stream",
          "name": "stdout",
          "text": [
            "False\n"
          ]
        }
      ]
    },
    {
      "cell_type": "code",
      "source": [
        "# lebih besar sama dengan\n",
        "hasil = 10 >= 8\n",
        "print(hasil)"
      ],
      "metadata": {
        "colab": {
          "base_uri": "https://localhost:8080/"
        },
        "id": "DD1rfUTIuOlu",
        "outputId": "a9b0824f-136b-4d75-9c84-be1f04205759"
      },
      "execution_count": null,
      "outputs": [
        {
          "output_type": "stream",
          "name": "stdout",
          "text": [
            "True\n"
          ]
        }
      ]
    },
    {
      "cell_type": "code",
      "source": [
        "# lebih besar sama dengan\n",
        "hasil = 10 >= 15\n",
        "print(hasil)"
      ],
      "metadata": {
        "colab": {
          "base_uri": "https://localhost:8080/"
        },
        "id": "rkuhRJ8RufY_",
        "outputId": "4d33544e-e89b-416a-e153-1d5029d92bfe"
      },
      "execution_count": null,
      "outputs": [
        {
          "output_type": "stream",
          "name": "stdout",
          "text": [
            "False\n"
          ]
        }
      ]
    },
    {
      "cell_type": "code",
      "source": [
        "# lebih besar sama dengan\n",
        "hasil = 10 >= 10\n",
        "print(hasil)"
      ],
      "metadata": {
        "colab": {
          "base_uri": "https://localhost:8080/"
        },
        "id": "3l84USkLuiTk",
        "outputId": "0f7e3f96-5c2c-4561-d657-bf8a88e7e814"
      },
      "execution_count": null,
      "outputs": [
        {
          "output_type": "stream",
          "name": "stdout",
          "text": [
            "True\n"
          ]
        }
      ]
    },
    {
      "cell_type": "code",
      "source": [
        "# lebih kecil sama dengan\n",
        "hasil = 3 <= 10\n",
        "print(hasil)"
      ],
      "metadata": {
        "colab": {
          "base_uri": "https://localhost:8080/"
        },
        "id": "cs_8EFhuukfz",
        "outputId": "68be94a5-191c-4e22-9574-2259da837e04"
      },
      "execution_count": null,
      "outputs": [
        {
          "output_type": "stream",
          "name": "stdout",
          "text": [
            "True\n"
          ]
        }
      ]
    },
    {
      "cell_type": "code",
      "source": [
        "# lebih kecil sama dengan\n",
        "hasil = 3 <= 2\n",
        "print(hasil)"
      ],
      "metadata": {
        "colab": {
          "base_uri": "https://localhost:8080/"
        },
        "id": "UOhEOrHIus_v",
        "outputId": "f677202c-8e9a-42dd-a8f2-ba3e6dabaa8c"
      },
      "execution_count": null,
      "outputs": [
        {
          "output_type": "stream",
          "name": "stdout",
          "text": [
            "False\n"
          ]
        }
      ]
    },
    {
      "cell_type": "code",
      "source": [
        "# lebih kecil sama dengan\n",
        "hasil = 3 <= 3\n",
        "print(hasil)"
      ],
      "metadata": {
        "colab": {
          "base_uri": "https://localhost:8080/"
        },
        "id": "5tNcevonuvk4",
        "outputId": "ba45f4e9-9c78-4ccb-81e8-70b2b56c7949"
      },
      "execution_count": null,
      "outputs": [
        {
          "output_type": "stream",
          "name": "stdout",
          "text": [
            "True\n"
          ]
        }
      ]
    },
    {
      "cell_type": "code",
      "source": [
        "# sama dengan\n",
        "a = 10\n",
        "b = 10\n",
        "hasil = a == b\n",
        "print(hasil)"
      ],
      "metadata": {
        "colab": {
          "base_uri": "https://localhost:8080/"
        },
        "id": "e21wBzb6uxy7",
        "outputId": "07a9a63e-439e-400e-9173-101b97bfd077"
      },
      "execution_count": null,
      "outputs": [
        {
          "output_type": "stream",
          "name": "stdout",
          "text": [
            "True\n"
          ]
        }
      ]
    },
    {
      "cell_type": "code",
      "source": [
        "# sama dengan\n",
        "a = 10\n",
        "b = 15\n",
        "hasil = a == b\n",
        "print(hasil)"
      ],
      "metadata": {
        "colab": {
          "base_uri": "https://localhost:8080/"
        },
        "id": "6D1dRKyrvLUY",
        "outputId": "960b67c1-9edd-42f7-aeae-c4729bc39b77"
      },
      "execution_count": null,
      "outputs": [
        {
          "output_type": "stream",
          "name": "stdout",
          "text": [
            "False\n"
          ]
        }
      ]
    },
    {
      "cell_type": "code",
      "source": [
        "# sama dengan (==)\n",
        "a = [1, 2]\n",
        "b = [1, 2]\n",
        "\n",
        "print(a == b)\n",
        "\n",
        "# cek alamat memory\n",
        "print(id(a))\n",
        "print(id(b))"
      ],
      "metadata": {
        "colab": {
          "base_uri": "https://localhost:8080/"
        },
        "id": "SOQ0sNqKvZgT",
        "outputId": "0f77ab6c-def3-4524-f543-b071b89ae7a7"
      },
      "execution_count": null,
      "outputs": [
        {
          "output_type": "stream",
          "name": "stdout",
          "text": [
            "True\n",
            "136540001401472\n",
            "136540001402304\n"
          ]
        }
      ]
    },
    {
      "cell_type": "code",
      "source": [
        "# sama dengan (==)\n",
        "a = [1, 2]\n",
        "b = [1, 3]\n",
        "\n",
        "print(a == b)\n",
        "\n",
        "# cek alamat memory\n",
        "print(id(a))\n",
        "print(id(b))"
      ],
      "metadata": {
        "colab": {
          "base_uri": "https://localhost:8080/"
        },
        "id": "UMF3b-zdv25W",
        "outputId": "e435fc9d-a8f0-42c6-c685-5d7ffeac0b00"
      },
      "execution_count": null,
      "outputs": [
        {
          "output_type": "stream",
          "name": "stdout",
          "text": [
            "False\n",
            "136540001396800\n",
            "136540000434368\n"
          ]
        }
      ]
    },
    {
      "cell_type": "code",
      "source": [
        "# sama dengan is\n",
        "x = [1, 2]\n",
        "y = x\n",
        "\n",
        "print (y is x)\n",
        "\n",
        "print(id(x))\n",
        "print(id(y))"
      ],
      "metadata": {
        "colab": {
          "base_uri": "https://localhost:8080/"
        },
        "id": "SJYUX_jJwABQ",
        "outputId": "c6618a72-0876-47be-e4c7-0b0826a2a8d7"
      },
      "execution_count": null,
      "outputs": [
        {
          "output_type": "stream",
          "name": "stdout",
          "text": [
            "True\n",
            "136540000432448\n",
            "136540000432448\n"
          ]
        }
      ]
    }
  ]
}