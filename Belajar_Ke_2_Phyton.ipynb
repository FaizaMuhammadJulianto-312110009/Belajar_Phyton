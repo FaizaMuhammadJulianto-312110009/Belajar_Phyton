{
  "nbformat": 4,
  "nbformat_minor": 0,
  "metadata": {
    "colab": {
      "provenance": [],
      "authorship_tag": "ABX9TyP31IL0xmisVIm8YYh+ITuF",
      "include_colab_link": true
    },
    "kernelspec": {
      "name": "python3",
      "display_name": "Python 3"
    },
    "language_info": {
      "name": "python"
    }
  },
  "cells": [
    {
      "cell_type": "markdown",
      "metadata": {
        "id": "view-in-github",
        "colab_type": "text"
      },
      "source": [
        "<a href=\"https://colab.research.google.com/github/FaizaMuhammadJulianto-312110009/Belajar_Phyton/blob/main/Belajar_Ke_2_Phyton.ipynb\" target=\"_parent\"><img src=\"https://colab.research.google.com/assets/colab-badge.svg\" alt=\"Open In Colab\"/></a>"
      ]
    },
    {
      "cell_type": "markdown",
      "source": [
        "To Integer"
      ],
      "metadata": {
        "id": "kLEaArH4Z7mj"
      }
    },
    {
      "cell_type": "code",
      "source": [
        "# float --> integer\n",
        "# boolean --> integer"
      ],
      "metadata": {
        "id": "uIaTW-yGaDbj"
      },
      "execution_count": null,
      "outputs": []
    },
    {
      "cell_type": "code",
      "source": [
        "data = 19.5\n",
        "data_int = int(data)\n",
        "\n",
        "print(data, type(data))\n",
        "print(data_int, type(data_int))"
      ],
      "metadata": {
        "colab": {
          "base_uri": "https://localhost:8080/"
        },
        "id": "nEH1DMlAaSkI",
        "outputId": "c01af329-f259-4ea1-eb7b-6dfde5802c90"
      },
      "execution_count": null,
      "outputs": [
        {
          "output_type": "stream",
          "name": "stdout",
          "text": [
            "19.5 <class 'float'>\n",
            "19 <class 'int'>\n"
          ]
        }
      ]
    },
    {
      "cell_type": "code",
      "source": [
        "data = True\n",
        "data_int = int(data)\n",
        "\n",
        "print(data, type(data))\n",
        "print(data_int, type(data_int))"
      ],
      "metadata": {
        "colab": {
          "base_uri": "https://localhost:8080/"
        },
        "id": "Z_g08icna_4H",
        "outputId": "a6de8a7f-e19a-4540-aeb3-72512504f9db"
      },
      "execution_count": null,
      "outputs": [
        {
          "output_type": "stream",
          "name": "stdout",
          "text": [
            "True <class 'bool'>\n",
            "1 <class 'int'>\n"
          ]
        }
      ]
    },
    {
      "cell_type": "code",
      "source": [
        "data = False\n",
        "data_int = int(data)\n",
        "\n",
        "print(data, type(data))\n",
        "print(data_int, type(data_int))"
      ],
      "metadata": {
        "colab": {
          "base_uri": "https://localhost:8080/"
        },
        "id": "cmU1BWT3bCfX",
        "outputId": "ed73821a-5006-409b-c04a-bb5b069c276f"
      },
      "execution_count": null,
      "outputs": [
        {
          "output_type": "stream",
          "name": "stdout",
          "text": [
            "False <class 'bool'>\n",
            "0 <class 'int'>\n"
          ]
        }
      ]
    },
    {
      "cell_type": "markdown",
      "source": [
        "To Float"
      ],
      "metadata": {
        "id": "kYGdQlJUbNOc"
      }
    },
    {
      "cell_type": "code",
      "source": [
        "data = 10\n",
        "data_float = float(data)\n",
        "\n",
        "print(data, type(data))\n",
        "print(data_float, type(data_float))"
      ],
      "metadata": {
        "colab": {
          "base_uri": "https://localhost:8080/"
        },
        "id": "Phw3H4ejbPZz",
        "outputId": "b5f90742-3693-48a2-a86f-dafc2f8fb4b0"
      },
      "execution_count": null,
      "outputs": [
        {
          "output_type": "stream",
          "name": "stdout",
          "text": [
            "10 <class 'int'>\n",
            "10.0 <class 'float'>\n"
          ]
        }
      ]
    },
    {
      "cell_type": "code",
      "source": [
        "data = True\n",
        "data_float = float(data)\n",
        "\n",
        "print(data, type(data))\n",
        "print(data_float, type(data_float))"
      ],
      "metadata": {
        "colab": {
          "base_uri": "https://localhost:8080/"
        },
        "id": "S9HU6xFncLAB",
        "outputId": "45996958-b684-46ae-f144-23325d8e3cc1"
      },
      "execution_count": null,
      "outputs": [
        {
          "output_type": "stream",
          "name": "stdout",
          "text": [
            "True <class 'bool'>\n",
            "1.0 <class 'float'>\n"
          ]
        }
      ]
    },
    {
      "cell_type": "code",
      "source": [
        "data = False\n",
        "data_float = float(data)\n",
        "\n",
        "print(data, type(data))\n",
        "print(data_float, type(data_float))"
      ],
      "metadata": {
        "colab": {
          "base_uri": "https://localhost:8080/"
        },
        "id": "yWH_v5VMbwYb",
        "outputId": "48c6dc60-5a01-4ec8-8451-06dfdd6ab718"
      },
      "execution_count": null,
      "outputs": [
        {
          "output_type": "stream",
          "name": "stdout",
          "text": [
            "False <class 'bool'>\n",
            "0.0 <class 'float'>\n"
          ]
        }
      ]
    },
    {
      "cell_type": "code",
      "source": [],
      "metadata": {
        "id": "CQkQ_tn1cPvc"
      },
      "execution_count": null,
      "outputs": []
    },
    {
      "cell_type": "markdown",
      "source": [
        "To Boolean"
      ],
      "metadata": {
        "id": "YdwhRZzJdQeH"
      }
    },
    {
      "cell_type": "code",
      "source": [
        "# To boolean\n",
        "# float/int --> boolean\n",
        "# string, list, set, tuple, dict --> boolean"
      ],
      "metadata": {
        "id": "p5ldUZGYdR_0"
      },
      "execution_count": null,
      "outputs": []
    },
    {
      "cell_type": "code",
      "source": [
        "data = 10\n",
        "data_convert = bool(data)\n",
        "\n",
        "print(data, type(data))\n",
        "print(data_convert, type(data_convert))"
      ],
      "metadata": {
        "colab": {
          "base_uri": "https://localhost:8080/"
        },
        "id": "q_rMnAEddrXm",
        "outputId": "5bfc7381-b75e-46e4-d734-3a4aa26425c3"
      },
      "execution_count": null,
      "outputs": [
        {
          "output_type": "stream",
          "name": "stdout",
          "text": [
            "10 <class 'int'>\n",
            "True <class 'bool'>\n"
          ]
        }
      ]
    },
    {
      "cell_type": "code",
      "source": [
        "data = \"spiderman\"\n",
        "data_convert = bool(data)\n",
        "\n",
        "print(data, type (data))\n",
        "print(data_convert, type(data_convert))"
      ],
      "metadata": {
        "colab": {
          "base_uri": "https://localhost:8080/"
        },
        "id": "swyH0_2Ud_SC",
        "outputId": "b64c5147-071a-4f31-8e23-8b4e1d8940ec"
      },
      "execution_count": null,
      "outputs": [
        {
          "output_type": "stream",
          "name": "stdout",
          "text": [
            "spiderman <class 'str'>\n",
            "True <class 'bool'>\n"
          ]
        }
      ]
    },
    {
      "cell_type": "code",
      "source": [
        "data = \"\"\n",
        "data_convert = bool(data)\n",
        "\n",
        "print(data, type (data))\n",
        "print(data_convert, type(data_convert))"
      ],
      "metadata": {
        "colab": {
          "base_uri": "https://localhost:8080/"
        },
        "id": "Vb_eTurJeNcd",
        "outputId": "fcfbde4b-f5bc-43c2-ece6-af15d8d148f6"
      },
      "execution_count": null,
      "outputs": [
        {
          "output_type": "stream",
          "name": "stdout",
          "text": [
            " <class 'str'>\n",
            "False <class 'bool'>\n"
          ]
        }
      ]
    },
    {
      "cell_type": "markdown",
      "source": [
        "To String"
      ],
      "metadata": {
        "id": "w-jurrSofZZz"
      }
    },
    {
      "cell_type": "code",
      "source": [
        "# To string\n",
        "# all type --> string\n",
        "\n",
        "data = 100\n",
        "data_convert = str(data)\n",
        "\n",
        "print(data, type (data))\n",
        "print(data_convert, type(data_convert))\n",
        "print(data, data_convert)"
      ],
      "metadata": {
        "colab": {
          "base_uri": "https://localhost:8080/"
        },
        "id": "NpvNgUZ1fawl",
        "outputId": "a982ab86-26f1-4846-c456-26b9703fb3c8"
      },
      "execution_count": null,
      "outputs": [
        {
          "output_type": "stream",
          "name": "stdout",
          "text": [
            "100 <class 'int'>\n",
            "100 <class 'str'>\n",
            "100 100\n"
          ]
        }
      ]
    },
    {
      "cell_type": "markdown",
      "source": [
        "# To List"
      ],
      "metadata": {
        "id": "V4DVnGJQgbhg"
      }
    },
    {
      "cell_type": "code",
      "source": [
        "# To list\n",
        "# string, tuple, set --> list\n",
        "\n",
        "data = \"spiderman\"\n",
        "data_convert = list(data)\n",
        "\n",
        "print(data, type (data))\n",
        "print(data_convert, type(data_convert))"
      ],
      "metadata": {
        "colab": {
          "base_uri": "https://localhost:8080/"
        },
        "id": "c5GrpZgigezf",
        "outputId": "34eea36f-3288-4eab-c38b-8f01970c40c1"
      },
      "execution_count": null,
      "outputs": [
        {
          "output_type": "stream",
          "name": "stdout",
          "text": [
            "spiderman <class 'str'>\n",
            "['s', 'p', 'i', 'd', 'e', 'r', 'm', 'a', 'n'] <class 'list'>\n"
          ]
        }
      ]
    },
    {
      "cell_type": "markdown",
      "source": [
        "# To Dict"
      ],
      "metadata": {
        "id": "oNY7Rh0rhvX4"
      }
    },
    {
      "cell_type": "code",
      "source": [
        "data = [\n",
        "    [\"marvel\", \"spiderman\"],\n",
        "    [\"dc\", \"batman\"]\n",
        "]\n",
        "\n",
        "print(data)\n",
        "print(dict(data))"
      ],
      "metadata": {
        "colab": {
          "base_uri": "https://localhost:8080/"
        },
        "id": "Xz9zNEFwhxix",
        "outputId": "6e510190-542a-4e5d-9b6f-c672d7bdfc64"
      },
      "execution_count": null,
      "outputs": [
        {
          "output_type": "stream",
          "name": "stdout",
          "text": [
            "[['marvel', 'spiderman'], ['dc', 'batman']]\n",
            "{'marvel': 'spiderman', 'dc': 'batman'}\n"
          ]
        }
      ]
    }
  ]
}