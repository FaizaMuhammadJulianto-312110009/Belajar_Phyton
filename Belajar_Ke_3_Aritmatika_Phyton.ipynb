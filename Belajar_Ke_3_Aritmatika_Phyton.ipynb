{
  "nbformat": 4,
  "nbformat_minor": 0,
  "metadata": {
    "colab": {
      "provenance": [],
      "authorship_tag": "ABX9TyP6zUVChmwe61/uymVSoIBO",
      "include_colab_link": true
    },
    "kernelspec": {
      "name": "python3",
      "display_name": "Python 3"
    },
    "language_info": {
      "name": "python"
    }
  },
  "cells": [
    {
      "cell_type": "markdown",
      "metadata": {
        "id": "view-in-github",
        "colab_type": "text"
      },
      "source": [
        "<a href=\"https://colab.research.google.com/github/FaizaMuhammadJulianto-312110009/Belajar_Phyton/blob/main/Belajar_Ke_3_Aritmatika_Phyton.ipynb\" target=\"_parent\"><img src=\"https://colab.research.google.com/assets/colab-badge.svg\" alt=\"Open In Colab\"/></a>"
      ]
    },
    {
      "cell_type": "code",
      "execution_count": null,
      "metadata": {
        "colab": {
          "base_uri": "https://localhost:8080/"
        },
        "id": "uhsozhMPpbzC",
        "outputId": "26dcdc12-2828-4cbf-a9ec-91493c511f43"
      },
      "outputs": [
        {
          "output_type": "stream",
          "name": "stdout",
          "text": [
            "9\n"
          ]
        }
      ],
      "source": [
        "# Penambahan\n",
        "penambahan = 5 + 4\n",
        "print(penambahan)"
      ]
    },
    {
      "cell_type": "code",
      "source": [
        "# Pengurangan\n",
        "pengurangan = 5 - 4\n",
        "print(pengurangan)"
      ],
      "metadata": {
        "colab": {
          "base_uri": "https://localhost:8080/"
        },
        "id": "cvL2ALFSprYF",
        "outputId": "3517a7bb-9c5b-418d-8279-4ceb28e00ed1"
      },
      "execution_count": null,
      "outputs": [
        {
          "output_type": "stream",
          "name": "stdout",
          "text": [
            "1\n"
          ]
        }
      ]
    },
    {
      "cell_type": "code",
      "source": [
        "# Perkalian\n",
        "perkalian = 5 * 4\n",
        "print(perkalian)"
      ],
      "metadata": {
        "colab": {
          "base_uri": "https://localhost:8080/"
        },
        "id": "1wunXJKpp3iD",
        "outputId": "8c058ac5-450a-4a46-dc95-03e2ebe16ef4"
      },
      "execution_count": null,
      "outputs": [
        {
          "output_type": "stream",
          "name": "stdout",
          "text": [
            "20\n"
          ]
        }
      ]
    },
    {
      "cell_type": "code",
      "source": [
        "# Pembagian\n",
        "pembagian = 5 / 4\n",
        "print(pembagian)"
      ],
      "metadata": {
        "colab": {
          "base_uri": "https://localhost:8080/"
        },
        "id": "vZpdnQh_p_T1",
        "outputId": "382e09fb-8db7-423d-a3f5-62a4b4e6fb8e"
      },
      "execution_count": null,
      "outputs": [
        {
          "output_type": "stream",
          "name": "stdout",
          "text": [
            "1.25\n"
          ]
        }
      ]
    },
    {
      "cell_type": "code",
      "source": [
        "# Perpangkatan\n",
        "perpangkatan = 5 ** 4\n",
        "print (perpangkatan)"
      ],
      "metadata": {
        "colab": {
          "base_uri": "https://localhost:8080/"
        },
        "id": "Kmj1_2PGqLkk",
        "outputId": "cbf27843-0558-45f7-9e41-3e4dbd85974f"
      },
      "execution_count": null,
      "outputs": [
        {
          "output_type": "stream",
          "name": "stdout",
          "text": [
            "625\n"
          ]
        }
      ]
    },
    {
      "cell_type": "code",
      "source": [
        "# Pembagian bulat / division floor\n",
        "pb = 22 // 3\n",
        "print(pb)"
      ],
      "metadata": {
        "colab": {
          "base_uri": "https://localhost:8080/"
        },
        "id": "z9eSZ99kqWdf",
        "outputId": "2d25b565-6612-4c5d-a0e6-6c3fe51a0433"
      },
      "execution_count": null,
      "outputs": [
        {
          "output_type": "stream",
          "name": "stdout",
          "text": [
            "7\n"
          ]
        }
      ]
    },
    {
      "cell_type": "code",
      "source": [
        "# Sisa bagi / modulus\n",
        "sb = 11 % 3\n",
        "print(sb)"
      ],
      "metadata": {
        "colab": {
          "base_uri": "https://localhost:8080/"
        },
        "id": "umXNBDcQqm9e",
        "outputId": "28fed4ea-6d2b-4a15-ed10-2d2523ca58bf"
      },
      "execution_count": null,
      "outputs": [
        {
          "output_type": "stream",
          "name": "stdout",
          "text": [
            "2\n"
          ]
        }
      ]
    }
  ]
}