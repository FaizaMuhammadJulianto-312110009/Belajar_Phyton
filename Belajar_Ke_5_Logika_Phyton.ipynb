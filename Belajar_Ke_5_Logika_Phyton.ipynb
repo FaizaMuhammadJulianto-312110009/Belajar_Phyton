{
  "nbformat": 4,
  "nbformat_minor": 0,
  "metadata": {
    "colab": {
      "provenance": [],
      "authorship_tag": "ABX9TyOXxDECiN7eV0Wp607JuGyY",
      "include_colab_link": true
    },
    "kernelspec": {
      "name": "python3",
      "display_name": "Python 3"
    },
    "language_info": {
      "name": "python"
    }
  },
  "cells": [
    {
      "cell_type": "markdown",
      "metadata": {
        "id": "view-in-github",
        "colab_type": "text"
      },
      "source": [
        "<a href=\"https://colab.research.google.com/github/FaizaMuhammadJulianto-312110009/Belajar_Phyton/blob/main/Belajar_Ke_5_Logika_Phyton.ipynb\" target=\"_parent\"><img src=\"https://colab.research.google.com/assets/colab-badge.svg\" alt=\"Open In Colab\"/></a>"
      ]
    },
    {
      "cell_type": "markdown",
      "source": [
        "# Logika Not"
      ],
      "metadata": {
        "id": "PUk96F-rqIgf"
      }
    },
    {
      "cell_type": "code",
      "source": [
        "# Operator Not\n",
        "input = True\n",
        "hasil = not input\n",
        "print(hasil)"
      ],
      "metadata": {
        "colab": {
          "base_uri": "https://localhost:8080/"
        },
        "id": "U9dXqcImoa5P",
        "outputId": "555c9d82-8d3e-4794-f120-350ab12a9c00"
      },
      "execution_count": null,
      "outputs": [
        {
          "output_type": "stream",
          "name": "stdout",
          "text": [
            "False\n"
          ]
        }
      ]
    },
    {
      "cell_type": "code",
      "source": [
        "# Operator Not\n",
        "input = False\n",
        "hasil = not input\n",
        "print(hasil)"
      ],
      "metadata": {
        "colab": {
          "base_uri": "https://localhost:8080/"
        },
        "id": "-ggCzRLupHQ0",
        "outputId": "d9278a11-2aea-45c0-d1ff-d7157aad6a0d"
      },
      "execution_count": null,
      "outputs": [
        {
          "output_type": "stream",
          "name": "stdout",
          "text": [
            "True\n"
          ]
        }
      ]
    },
    {
      "cell_type": "markdown",
      "source": [
        "# Logika Or"
      ],
      "metadata": {
        "id": "d2FXu21dpX5O"
      }
    },
    {
      "cell_type": "code",
      "source": [
        "# Operator Or\n",
        "input_a = False\n",
        "input_b = False\n",
        "nilai = input_a or input_b\n",
        "print(nilai)"
      ],
      "metadata": {
        "colab": {
          "base_uri": "https://localhost:8080/"
        },
        "id": "vfeEvQJzpexx",
        "outputId": "b1e7c3fd-2935-4847-83ed-1daef7577517"
      },
      "execution_count": null,
      "outputs": [
        {
          "output_type": "stream",
          "name": "stdout",
          "text": [
            "False\n"
          ]
        }
      ]
    },
    {
      "cell_type": "code",
      "source": [
        "# Operator Or\n",
        "input_a = False\n",
        "input_b = True\n",
        "nilai = input_a or input_b\n",
        "print(nilai)"
      ],
      "metadata": {
        "colab": {
          "base_uri": "https://localhost:8080/"
        },
        "id": "uhnG9TaXp7en",
        "outputId": "ff44d9f6-c10c-4007-9060-3be478895c02"
      },
      "execution_count": null,
      "outputs": [
        {
          "output_type": "stream",
          "name": "stdout",
          "text": [
            "True\n"
          ]
        }
      ]
    },
    {
      "cell_type": "code",
      "source": [
        "# Operator Or\n",
        "input_a = True\n",
        "input_b = False\n",
        "nilai = input_a or input_b\n",
        "print(nilai)"
      ],
      "metadata": {
        "colab": {
          "base_uri": "https://localhost:8080/"
        },
        "id": "06PIgyuDp_Ec",
        "outputId": "d59f64d2-1224-4126-a0b9-435432e5cbf3"
      },
      "execution_count": null,
      "outputs": [
        {
          "output_type": "stream",
          "name": "stdout",
          "text": [
            "True\n"
          ]
        }
      ]
    },
    {
      "cell_type": "code",
      "source": [
        "# Operator Or\n",
        "input_a = True\n",
        "input_b = True\n",
        "nilai = input_a or input_b\n",
        "print(nilai)"
      ],
      "metadata": {
        "colab": {
          "base_uri": "https://localhost:8080/"
        },
        "id": "1XdhMYWSqC3Z",
        "outputId": "c587b811-b701-42f0-c5ed-2f4c625acec5"
      },
      "execution_count": null,
      "outputs": [
        {
          "output_type": "stream",
          "name": "stdout",
          "text": [
            "True\n"
          ]
        }
      ]
    },
    {
      "cell_type": "markdown",
      "source": [
        "# Logika End"
      ],
      "metadata": {
        "id": "d9GjJ0KQqMff"
      }
    },
    {
      "cell_type": "code",
      "source": [
        "# Operator and\n",
        "input_a = False\n",
        "input_b = True\n",
        "hasil = input_a and input_b\n",
        "print(hasil)"
      ],
      "metadata": {
        "colab": {
          "base_uri": "https://localhost:8080/"
        },
        "id": "ZiRn1vjQqgbf",
        "outputId": "505bbfb6-7f0e-4699-e228-f05099e23fb0"
      },
      "execution_count": null,
      "outputs": [
        {
          "output_type": "stream",
          "name": "stdout",
          "text": [
            "False\n"
          ]
        }
      ]
    },
    {
      "cell_type": "code",
      "source": [
        "# Operator and\n",
        "input_a = True\n",
        "input_b = False\n",
        "hasil = input_a and input_b\n",
        "print(hasil)"
      ],
      "metadata": {
        "colab": {
          "base_uri": "https://localhost:8080/"
        },
        "id": "Zc0h4McRquCR",
        "outputId": "5b3698b4-1b43-40c5-d34d-75120058b188"
      },
      "execution_count": null,
      "outputs": [
        {
          "output_type": "stream",
          "name": "stdout",
          "text": [
            "False\n"
          ]
        }
      ]
    },
    {
      "cell_type": "code",
      "source": [
        "# Operator and\n",
        "input_a = False\n",
        "input_b = False\n",
        "hasil = input_a and input_b\n",
        "print(hasil)"
      ],
      "metadata": {
        "colab": {
          "base_uri": "https://localhost:8080/"
        },
        "id": "EIivDeO_qyES",
        "outputId": "7c78be55-81ff-4534-a8f5-b06af7345a5b"
      },
      "execution_count": null,
      "outputs": [
        {
          "output_type": "stream",
          "name": "stdout",
          "text": [
            "False\n"
          ]
        }
      ]
    },
    {
      "cell_type": "code",
      "source": [
        "# Operator and\n",
        "input_a = True\n",
        "input_b = True\n",
        "hasil = input_a and input_b\n",
        "print(hasil)"
      ],
      "metadata": {
        "colab": {
          "base_uri": "https://localhost:8080/"
        },
        "id": "arrgg2cnq05w",
        "outputId": "0c6dd8a7-40b5-4f60-b02a-64dd90cfe5f8"
      },
      "execution_count": null,
      "outputs": [
        {
          "output_type": "stream",
          "name": "stdout",
          "text": [
            "True\n"
          ]
        }
      ]
    },
    {
      "cell_type": "markdown",
      "source": [
        "# Logika Xor"
      ],
      "metadata": {
        "id": "neoPFTmFrU0n"
      }
    },
    {
      "cell_type": "code",
      "source": [
        "# Operator xor\n",
        "input_a = False\n",
        "input_b = True\n",
        "hasil = input_a ^ input_b\n",
        "print(hasil)"
      ],
      "metadata": {
        "colab": {
          "base_uri": "https://localhost:8080/"
        },
        "id": "GD5n0UY6rYca",
        "outputId": "cfb603b8-c829-485e-8655-da2c91ebfb16"
      },
      "execution_count": null,
      "outputs": [
        {
          "output_type": "stream",
          "name": "stdout",
          "text": [
            "True\n"
          ]
        }
      ]
    },
    {
      "cell_type": "code",
      "source": [
        "# Operator xor\n",
        "input_a = True\n",
        "input_b = False\n",
        "hasil = input_a ^ input_b\n",
        "print(hasil)"
      ],
      "metadata": {
        "colab": {
          "base_uri": "https://localhost:8080/"
        },
        "id": "-_tqrtiXrdpT",
        "outputId": "c5d3d917-dc3c-4b07-95c3-aac15af868e5"
      },
      "execution_count": null,
      "outputs": [
        {
          "output_type": "stream",
          "name": "stdout",
          "text": [
            "True\n"
          ]
        }
      ]
    },
    {
      "cell_type": "code",
      "source": [
        "# Operator xor\n",
        "input_a = False\n",
        "input_b = False\n",
        "hasil = input_a ^ input_b\n",
        "print(hasil)"
      ],
      "metadata": {
        "colab": {
          "base_uri": "https://localhost:8080/"
        },
        "id": "bGfDzB4Hrh6r",
        "outputId": "25de7e7c-b13c-4592-c1c4-48b3e7f94f2f"
      },
      "execution_count": null,
      "outputs": [
        {
          "output_type": "stream",
          "name": "stdout",
          "text": [
            "False\n"
          ]
        }
      ]
    },
    {
      "cell_type": "code",
      "source": [
        "# Operator xor\n",
        "input_a = True\n",
        "input_b = True\n",
        "hasil = input_a ^ input_b\n",
        "print(hasil)"
      ],
      "metadata": {
        "colab": {
          "base_uri": "https://localhost:8080/"
        },
        "id": "YTT5mhRbrkWm",
        "outputId": "5aa4f360-135c-416a-d586-ca4912546c3d"
      },
      "execution_count": null,
      "outputs": [
        {
          "output_type": "stream",
          "name": "stdout",
          "text": [
            "False\n"
          ]
        }
      ]
    }
  ]
}