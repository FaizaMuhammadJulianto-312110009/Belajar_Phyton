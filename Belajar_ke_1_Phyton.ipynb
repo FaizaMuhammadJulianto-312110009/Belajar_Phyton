{
  "nbformat": 4,
  "nbformat_minor": 0,
  "metadata": {
    "colab": {
      "provenance": [],
      "authorship_tag": "ABX9TyPANpRblT7GA25VwwXxRyS7",
      "include_colab_link": true
    },
    "kernelspec": {
      "name": "python3",
      "display_name": "Python 3"
    },
    "language_info": {
      "name": "python"
    }
  },
  "cells": [
    {
      "cell_type": "markdown",
      "metadata": {
        "id": "view-in-github",
        "colab_type": "text"
      },
      "source": [
        "<a href=\"https://colab.research.google.com/github/FaizaMuhammadJulianto-312110009/Belajar_Phyton/blob/main/Belajar_ke_1_Phyton.ipynb\" target=\"_parent\"><img src=\"https://colab.research.google.com/assets/colab-badge.svg\" alt=\"Open In Colab\"/></a>"
      ]
    },
    {
      "cell_type": "code",
      "execution_count": null,
      "metadata": {
        "colab": {
          "base_uri": "https://localhost:8080/"
        },
        "id": "IDZSAVAnSO8E",
        "outputId": "90c442d7-d4b3-4411-debf-17e5b5eb09a2"
      },
      "outputs": [
        {
          "output_type": "stream",
          "name": "stdout",
          "text": [
            "8\n",
            "<class 'int'>\n"
          ]
        }
      ],
      "source": [
        "# Type data atau bilangan bulat\n",
        "data = 8\n",
        "print (data)\n",
        "print (type(data))"
      ]
    },
    {
      "cell_type": "code",
      "source": [
        "# Type float atau bilangan desimal\n",
        "data = 8.5\n",
        "print (data)\n",
        "print (type(data))"
      ],
      "metadata": {
        "colab": {
          "base_uri": "https://localhost:8080/"
        },
        "id": "2iq14bYVSvRf",
        "outputId": "bd94f767-9538-430e-cec7-3577950e7287"
      },
      "execution_count": null,
      "outputs": [
        {
          "output_type": "stream",
          "name": "stdout",
          "text": [
            "8.5\n",
            "<class 'float'>\n"
          ]
        }
      ]
    },
    {
      "cell_type": "code",
      "source": [
        "# Type boolean atau biner\n",
        "data1 = True\n",
        "data2 = False\n",
        "\n",
        "print (data1)\n",
        "print (type(data1))"
      ],
      "metadata": {
        "colab": {
          "base_uri": "https://localhost:8080/"
        },
        "id": "YQleOjUQS8sC",
        "outputId": "a68f0cd2-b4ff-4189-d694-b6f45c4a182f"
      },
      "execution_count": null,
      "outputs": [
        {
          "output_type": "stream",
          "name": "stdout",
          "text": [
            "True\n",
            "<class 'bool'>\n"
          ]
        }
      ]
    },
    {
      "cell_type": "code",
      "source": [
        "# Type string atau kumpulan karakter\n",
        "# diawali dan diakhiri dengan tanda \" \"\n",
        "data1 = \"spiderman\"\n",
        "data2 = \"9.5\"\n",
        "\n",
        "print (data1)\n",
        "print (type(data1))\n",
        "\n",
        "print (data2)\n",
        "print (type(data2))"
      ],
      "metadata": {
        "colab": {
          "base_uri": "https://localhost:8080/"
        },
        "id": "efjMatjHUFy8",
        "outputId": "2570e1bd-8bef-4b78-ada5-e0a459aebfca"
      },
      "execution_count": null,
      "outputs": [
        {
          "output_type": "stream",
          "name": "stdout",
          "text": [
            "spiderman\n",
            "<class 'str'>\n",
            "9.5\n",
            "<class 'str'>\n"
          ]
        }
      ]
    },
    {
      "cell_type": "code",
      "source": [
        "# Type Data List atau kumpulan data\n",
        "# Menggunakan tanda [ ]\n",
        "data = [\"spiderman\", \"ironman\", \"batman\"]\n",
        "print(data)\n",
        "print(type(data))"
      ],
      "metadata": {
        "colab": {
          "base_uri": "https://localhost:8080/"
        },
        "id": "83ccLQmLU0TJ",
        "outputId": "e2e5acf4-bd94-421b-9411-b9f79a3a526a"
      },
      "execution_count": null,
      "outputs": [
        {
          "output_type": "stream",
          "name": "stdout",
          "text": [
            "['spiderman', 'ironman', 'batman']\n",
            "<class 'list'>\n"
          ]
        }
      ]
    },
    {
      "cell_type": "code",
      "source": [
        "# Type tuple\n",
        "# Menggunakan tanda ( )\n",
        "\n",
        "data = (\"spiderman\", \"ironman\")\n",
        "print(data)\n",
        "print(type(data))"
      ],
      "metadata": {
        "colab": {
          "base_uri": "https://localhost:8080/"
        },
        "id": "qCgbjyvPWR6H",
        "outputId": "4bf000f6-dd41-4d49-88ae-648bbd7645f4"
      },
      "execution_count": null,
      "outputs": [
        {
          "output_type": "stream",
          "name": "stdout",
          "text": [
            "('spiderman', 'ironman')\n",
            "<class 'tuple'>\n"
          ]
        }
      ]
    },
    {
      "cell_type": "code",
      "source": [
        "# Type data set\n",
        "# Menggunakan tanda { }\n",
        "\n",
        "data = {\"spiderman\", \"ironman\"}\n",
        "print(data)\n",
        "print(type(data))"
      ],
      "metadata": {
        "colab": {
          "base_uri": "https://localhost:8080/"
        },
        "id": "On6ZUVl3XErb",
        "outputId": "d8ecaf4e-bb8f-45c8-feab-485a810568f7"
      },
      "execution_count": null,
      "outputs": [
        {
          "output_type": "stream",
          "name": "stdout",
          "text": [
            "{'ironman', 'spiderman'}\n",
            "<class 'set'>\n"
          ]
        }
      ]
    },
    {
      "cell_type": "code",
      "source": [
        "# Type data dictionery\n",
        "\n",
        "data = {\"spiderman\" : \"mcu\", \"batman\" : \"dc\"}\n",
        "print(data)\n",
        "print(type(data))"
      ],
      "metadata": {
        "colab": {
          "base_uri": "https://localhost:8080/"
        },
        "id": "4Msp4H7TXbCC",
        "outputId": "ddaaa9e4-f4fb-432c-978e-4a11f619b10c"
      },
      "execution_count": null,
      "outputs": [
        {
          "output_type": "stream",
          "name": "stdout",
          "text": [
            "{'spiderman': 'mcu', 'batman': 'dc'}\n",
            "<class 'dict'>\n"
          ]
        }
      ]
    },
    {
      "cell_type": "code",
      "source": [
        "dt = {\"Marvel\":\"Spiderman\", \"DC\": \"Batman\"}\n",
        "print(type(dt))\n"
      ],
      "metadata": {
        "colab": {
          "base_uri": "https://localhost:8080/"
        },
        "id": "rBLExyWdfDf3",
        "outputId": "e439e0d6-93c1-4b76-bbb7-2e08b6509f1a"
      },
      "execution_count": null,
      "outputs": [
        {
          "output_type": "stream",
          "name": "stdout",
          "text": [
            "<class 'dict'>\n"
          ]
        }
      ]
    }
  ]
}